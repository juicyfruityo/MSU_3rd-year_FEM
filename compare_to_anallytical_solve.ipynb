{
 "cells": [
  {
   "cell_type": "code",
   "execution_count": 1,
   "metadata": {},
   "outputs": [],
   "source": [
    "import pandas as pd\n",
    "import numpy as np\n",
    "import matplotlib.pyplot as plt"
   ]
  },
  {
   "cell_type": "code",
   "execution_count": 788,
   "metadata": {},
   "outputs": [],
   "source": [
    "ind = [i for i in range(0,801)]\n",
    "# col = [i for i in range(1, 64)]\n",
    "df = pd.read_csv(\"result_velocities_4x20_938_nu2_f4000_newriecker_mu0_step800_39try_bordercond.txt\", sep=\" \",\n",
    "                 names=ind, index_col=False)"
   ]
  },
  {
   "cell_type": "code",
   "execution_count": 789,
   "metadata": {},
   "outputs": [],
   "source": [
    "df_elem = pd.read_csv(\"elements_df_4x20_938.txt\", names=['id', 'node1', 'node2', 'node3', 'node4'])\n",
    "\n",
    "df_nodes = pd.read_csv(\"nodes_df_4x20_938.txt\", names=['ind', 'x', 'y'])"
   ]
  },
  {
   "cell_type": "code",
   "execution_count": 197,
   "metadata": {
    "scrolled": true
   },
   "outputs": [
    {
     "data": {
      "text/plain": [
       "0       0.000000\n",
       "1      13.982600\n",
       "2       0.000000\n",
       "3      21.722700\n",
       "4       0.000000\n",
       "5      20.785500\n",
       "6       0.000000\n",
       "7      17.852700\n",
       "8       0.000000\n",
       "9      14.920000\n",
       "10      0.000000\n",
       "11    171.420000\n",
       "12    -25.094400\n",
       "13     34.401400\n",
       "14     -0.293217\n",
       "15     74.016000\n",
       "16     24.597100\n",
       "17    136.186000\n",
       "18      0.000000\n",
       "19    133.044000\n",
       "20      0.000000\n",
       "21    160.158000\n",
       "22      0.000000\n",
       "23    152.232000\n",
       "24      0.000000\n",
       "25    144.306000\n",
       "26     24.597100\n",
       "27    126.233000\n",
       "28     -0.293215\n",
       "29     97.074300\n",
       "30    -25.094400\n",
       "31     44.354300\n",
       "32    -24.277000\n",
       "33     42.954900\n",
       "34    -23.459700\n",
       "35     39.377800\n",
       "36    -24.277000\n",
       "37     35.800800\n",
       "38      0.494380\n",
       "39     88.041700\n",
       "40      1.281810\n",
       "41     85.545000\n",
       "42      0.494324\n",
       "43     83.048800\n",
       "44     24.759400\n",
       "45    127.633000\n",
       "46     24.921600\n",
       "47    131.210000\n",
       "48     24.759400\n",
       "49    134.787000\n",
       "Name: 230, dtype: float64"
      ]
     },
     "execution_count": 197,
     "metadata": {},
     "output_type": "execute_result"
    }
   ],
   "source": [
    "df.iloc[:, 230]"
   ]
  },
  {
   "cell_type": "code",
   "execution_count": 208,
   "metadata": {
    "scrolled": true
   },
   "outputs": [
    {
     "data": {
      "text/plain": [
       "1     0.013533\n",
       "3     0.013533\n",
       "5     0.013533\n",
       "7     0.013533\n",
       "9     0.013533\n",
       "13    0.006767\n",
       "31    0.006767\n",
       "33    0.006767\n",
       "35    0.006767\n",
       "37    0.006767\n",
       "Name: 3, dtype: float64"
      ]
     },
     "execution_count": 208,
     "metadata": {},
     "output_type": "execute_result"
    }
   ],
   "source": [
    "df[df.iloc[:, 3] != 0].iloc[:, 3]"
   ]
  },
  {
   "cell_type": "code",
   "execution_count": 768,
   "metadata": {},
   "outputs": [
    {
     "data": {
      "text/html": [
       "<div>\n",
       "<style scoped>\n",
       "    .dataframe tbody tr th:only-of-type {\n",
       "        vertical-align: middle;\n",
       "    }\n",
       "\n",
       "    .dataframe tbody tr th {\n",
       "        vertical-align: top;\n",
       "    }\n",
       "\n",
       "    .dataframe thead th {\n",
       "        text-align: right;\n",
       "    }\n",
       "</style>\n",
       "<table border=\"1\" class=\"dataframe\">\n",
       "  <thead>\n",
       "    <tr style=\"text-align: right;\">\n",
       "      <th></th>\n",
       "      <th>id</th>\n",
       "      <th>node1</th>\n",
       "      <th>node2</th>\n",
       "      <th>node3</th>\n",
       "      <th>node4</th>\n",
       "    </tr>\n",
       "  </thead>\n",
       "  <tbody>\n",
       "    <tr>\n",
       "      <th>6888</th>\n",
       "      <td>6889.0</td>\n",
       "      <td>7102.0</td>\n",
       "      <td>7103.0</td>\n",
       "      <td>7197.0</td>\n",
       "      <td>7196.0</td>\n",
       "    </tr>\n",
       "  </tbody>\n",
       "</table>\n",
       "</div>"
      ],
      "text/plain": [
       "          id   node1   node2   node3   node4\n",
       "6888  6889.0  7102.0  7103.0  7197.0  7196.0"
      ]
     },
     "execution_count": 768,
     "metadata": {},
     "output_type": "execute_result"
    }
   ],
   "source": [
    "df_elem[df_elem.node1 == 7102]"
   ]
  },
  {
   "cell_type": "code",
   "execution_count": 857,
   "metadata": {},
   "outputs": [
    {
     "data": {
      "text/html": [
       "<div>\n",
       "<style scoped>\n",
       "    .dataframe tbody tr th:only-of-type {\n",
       "        vertical-align: middle;\n",
       "    }\n",
       "\n",
       "    .dataframe tbody tr th {\n",
       "        vertical-align: top;\n",
       "    }\n",
       "\n",
       "    .dataframe thead th {\n",
       "        text-align: right;\n",
       "    }\n",
       "</style>\n",
       "<table border=\"1\" class=\"dataframe\">\n",
       "  <thead>\n",
       "    <tr style=\"text-align: right;\">\n",
       "      <th></th>\n",
       "      <th>ind</th>\n",
       "      <th>x</th>\n",
       "      <th>y</th>\n",
       "    </tr>\n",
       "  </thead>\n",
       "  <tbody>\n",
       "    <tr>\n",
       "      <th>6</th>\n",
       "      <td>5.0</td>\n",
       "      <td>-1.0</td>\n",
       "      <td>2.0</td>\n",
       "    </tr>\n",
       "  </tbody>\n",
       "</table>\n",
       "</div>"
      ],
      "text/plain": [
       "   ind    x    y\n",
       "6  5.0 -1.0  2.0"
      ]
     },
     "execution_count": 857,
     "metadata": {},
     "output_type": "execute_result"
    }
   ],
   "source": [
    "df_nodes[df_nodes.ind == 5]#.iloc[30:70]"
   ]
  },
  {
   "cell_type": "code",
   "execution_count": 34,
   "metadata": {
    "scrolled": true
   },
   "outputs": [
    {
     "ename": "NameError",
     "evalue": "name 'df_nodes' is not defined",
     "output_type": "error",
     "traceback": [
      "\u001b[1;31m---------------------------------------------------------------------------\u001b[0m",
      "\u001b[1;31mNameError\u001b[0m                                 Traceback (most recent call last)",
      "\u001b[1;32m<ipython-input-34-59b46363aa9c>\u001b[0m in \u001b[0;36m<module>\u001b[1;34m\u001b[0m\n\u001b[1;32m----> 1\u001b[1;33m \u001b[0mdf_nodes\u001b[0m\u001b[1;33m[\u001b[0m\u001b[1;33m(\u001b[0m\u001b[0mdf_nodes\u001b[0m\u001b[1;33m.\u001b[0m\u001b[0mx\u001b[0m\u001b[1;33m.\u001b[0m\u001b[0mvalues\u001b[0m\u001b[1;33m.\u001b[0m\u001b[0mastype\u001b[0m\u001b[1;33m(\u001b[0m\u001b[0mnp\u001b[0m\u001b[1;33m.\u001b[0m\u001b[0mint\u001b[0m\u001b[1;33m)\u001b[0m \u001b[1;33m==\u001b[0m \u001b[1;36m0\u001b[0m\u001b[1;33m)\u001b[0m \u001b[1;33m&\u001b[0m \u001b[1;33m(\u001b[0m\u001b[0mdf_nodes\u001b[0m\u001b[1;33m.\u001b[0m\u001b[0my\u001b[0m\u001b[1;33m.\u001b[0m\u001b[0mvalues\u001b[0m\u001b[1;33m.\u001b[0m\u001b[0mastype\u001b[0m\u001b[1;33m(\u001b[0m\u001b[0mnp\u001b[0m\u001b[1;33m.\u001b[0m\u001b[0mint\u001b[0m\u001b[1;33m)\u001b[0m \u001b[1;33m==\u001b[0m \u001b[1;36m0\u001b[0m\u001b[1;33m)\u001b[0m\u001b[1;33m]\u001b[0m\u001b[1;33m.\u001b[0m\u001b[0miloc\u001b[0m\u001b[1;33m[\u001b[0m\u001b[1;33m:\u001b[0m\u001b[1;36m50\u001b[0m\u001b[1;33m]\u001b[0m\u001b[1;33m\u001b[0m\u001b[1;33m\u001b[0m\u001b[0m\n\u001b[0m",
      "\u001b[1;31mNameError\u001b[0m: name 'df_nodes' is not defined"
     ]
    }
   ],
   "source": [
    "df_nodes[(df_nodes.x.values.astype(np.int) == 0) & (df_nodes.y.values.astype(np.int) == 0)].iloc[:50]"
   ]
  },
  {
   "cell_type": "code",
   "execution_count": 790,
   "metadata": {},
   "outputs": [],
   "source": [
    "V_comp = np.array(df[df.iloc[:, 0] == 57].iloc[0, 1:]) # 5 - 25\n",
    "V_comp1 = np.array(df[df.iloc[:, 0] == 3].iloc[1, 1:]) # 3 - 4x20\n",
    "\n",
    "\n",
    "V = [-ricker(f, new_t) * 2 * np.pi * a1 * np.sin(2*np.pi/length * (x - a1*new_t)) for new_t in t]\n",
    "\n",
    "V1 = [-ricker(f, new_t) * 2 * np.pi * a2 * np.sin(2*np.pi/length * (x - a2*new_t)) for new_t in t]\n",
    "# V = [ricker(f, new_t) * np.cos(2*np.pi * f * new_t) for new_t in t]\n",
    "# V_comp = np.array(df[df.iloc[:, 0] == 3442].iloc[0, 1:])\n",
    "# V_comp1 = np.array(df[df.iloc[:, 0] == 3442].iloc[1, 1:])"
   ]
  },
  {
   "cell_type": "code",
   "execution_count": 36,
   "metadata": {},
   "outputs": [],
   "source": [
    "t_comp = np.arange(0.0, 0.8, 0.001)\n",
    "# t = np.arange(0.0, 0.08, 0.001)"
   ]
  },
  {
   "cell_type": "code",
   "execution_count": 776,
   "metadata": {},
   "outputs": [
    {
     "data": {
      "image/png": "[encoded data removed]",
      "text/plain": [
       "<Figure size 1008x432 with 1 Axes>"
      ]
     },
     "metadata": {
      "needs_background": "light"
     },
     "output_type": "display_data"
    }
   ],
   "source": [
    "plt.figure(figsize=(14, 6))\n",
    "# 20th freq = 1\n",
    "plt.subplot(122)\n",
    "# plt.plot(t, np.array([ricker(2, i) for i in t]), label='Ricker wavelet')\n",
    "plt.plot(t_comp, V_comp, label='FEM')\n",
    "plt.legend()\n",
    "\n",
    "# plt.subplot(121)\n",
    "# a1 = np.sqrt(120)\n",
    "f = 2 # A low wavelength of 10 Hz 1.8 for 25, 1\n",
    "length = a1 / f# 7.5 for 25, 3.5\n",
    "# V = [ricker(f, new_t) * 2 * np.pi * a1 * np.sin(2*np.pi * f * new_t) for new_t in t]\n",
    "# V = [2 * np.pi * a1 * np.sin(2*np.pi * f * new_t) for new_t in t]\n",
    "# V = [ - ricker(f, new_t) * 2 * np.pi * a1 * np.sin(2*np.pi * f * new_t) for new_t in t]\n",
    "V = [a2 * ricker(f,new_t) for new_t in t]\n",
    "plt.plot(t, V, label='Analytic without Ricker')\n",
    "# plt.title(\"Prodolnaya\")\n",
    "plt.legend()\n",
    "plt.show()"
   ]
  },
  {
   "cell_type": "code",
   "execution_count": 794,
   "metadata": {},
   "outputs": [
    {
     "data": {
      "image/png": "[encoded data removed]",
      "text/plain": [
       "<Figure size 1008x432 with 1 Axes>"
      ]
     },
     "metadata": {
      "needs_background": "light"
     },
     "output_type": "display_data"
    }
   ],
   "source": [
    "plt.figure(figsize=(14, 6))\n",
    "# 20th freq = 1\n",
    "plt.subplot(122)\n",
    "plt.plot(t_comp, V_comp1*2.8, label='Численноe решение')\n",
    "# plt.legend()\n",
    "\n",
    "# a1 = np.sqrt(120)\n",
    "f = 2 # A low wavelength of 10 Hz 1.8 for 25, 1\n",
    "length = a1 / f# 7.5 for 25, 3.5\n",
    "# V = [ricker(f, new_t) * 2 * np.pi * a1 * np.sin(2*np.pi/length * a1*new_t) for new_t in t]\n",
    "V = [a1 * 3 * ricker(f, new_t) for new_t in t]\n",
    "# plt.subplot(121)\n",
    "# plt.plot(t, V_comp1, label='Using finite method')\n",
    "plt.plot(t, V, label='Аналитическое решение')\n",
    "# plt.title(\"Prodolnaya\")\n",
    "plt.legend()\n",
    "# plt.savefig('plot1.png')\n",
    "plt.show()"
   ]
  },
  {
   "cell_type": "code",
   "execution_count": 55,
   "metadata": {},
   "outputs": [],
   "source": [
    "def ricker(f, t=0.001):\n",
    "    offset = 1 / (np.sqrt(2) * np.pi * f)\n",
    "    A = (1.0 - 2.0*(np.pi**2)*(f**2)*((t-offset)**2)) * np.exp(-(np.pi**2)*(f**2)*((t-offset)**2))\n",
    "#     A = np.exp(-(np.pi**2)*(f**2)*(t**2)) * (-6 * np.pi**2 * f**2 * t + 4 * np.pi**4 * f**4 * t**3)\n",
    "#     A = 1\n",
    "    return A\n",
    "\n",
    "def ricker_div(f, t):\n",
    "    t = t - 1 / (np.sqrt(2) * np.pi * f)\n",
    "    A = (- 6 * np.pi**2 * f**2 * t + 2 * np.pi**4 * f**4 * t**4) * np.exp(-np.pi**2 * f**2 * t**2)\n",
    "    return A\n",
    " \n",
    "f = 0.2 # A low wavelength of 10 Hz 1.8 for 25, 1\n",
    "length = 1.4 / f # 7.5 for 25, 3.5\n",
    "t = np.arange(0, 0.8, 0.001)"
   ]
  },
  {
   "cell_type": "code",
   "execution_count": 51,
   "metadata": {},
   "outputs": [],
   "source": [
    "x = 0\n",
    "lamb = 4000000#5000000\n",
    "mu = 4000000#0\n",
    "ro = 10000\n",
    "a1 = np.sqrt((lamb + 2*mu) / ro)\n",
    "a2 = np.sqrt(mu / ro)\n",
    "\n",
    "# V = [-ricker(f, new_t) * 2 * np.pi * a1 * np.sin(2*np.pi/length * (x - a1*new_t)) for new_t in t]\n",
    "\n",
    "# V1 = [-ricker(f, new_t) * 2 * np.pi * a2 * np.sin(2*np.pi/length * (x - a2*new_t)) for new_t in t]"
   ]
  },
  {
   "cell_type": "code",
   "execution_count": 90,
   "metadata": {},
   "outputs": [],
   "source": [
    "def heviside(x):\n",
    "    if (x >= 0):\n",
    "        return 1\n",
    "    else:\n",
    "        return 0\n",
    "\n",
    "def tochechn(f, t, x=2, z=2):\n",
    "    r = np.sqrt(x**2 + z**2)\n",
    "    tau_p = r / a1\n",
    "    tau_s = r / a2\n",
    "#     print((t**2 - tau_s**2)**(1/2))\n",
    "    G1 = 1 / a1**2 * np.abs(t**2 - tau_p**2)**(-1/2) \\\n",
    "         * heviside(t-tau_p) + 1 / r**2 * np.abs(t**2 - tau_p**2)**(1/2) \\\n",
    "         * heviside(t-tau_p) - 1 / r**2 * np.abs(t**2 - tau_s**2)**(1/2) \\\n",
    "         * heviside(t-tau_s)\n",
    "    G3 = - 1 / a2**2 * np.abs(t**2 - tau_s**2)**(-1/2) \\\n",
    "         * heviside(t-tau_p) + 1 / r**2 * np.abs(t**2 - tau_p**2)**(1/2) \\\n",
    "         * heviside(t-tau_p) - 1 / r**2 * np.abs(t**2 - tau_s**2)**(1/2) \\\n",
    "         * heviside(t-tau_s)\n",
    "#     print(G1, G3)\n",
    "    U1 = f / (2*np.pi*ro) * x*z/r**2 * (G1 + G3)\n",
    "    U3 = f / (2*np.pi*ro*r**2) * (z**2 * G1 - x**2 * G3)\n",
    "    \n",
    "    return U1, U3"
   ]
  },
  {
   "cell_type": "code",
   "execution_count": 88,
   "metadata": {},
   "outputs": [
    {
     "name": "stdout",
     "output_type": "stream",
     "text": [
      "0.264575131106459\n",
      "0.005899251781992361 -0.006436611389186452\n"
     ]
    },
    {
     "data": {
      "text/plain": [
       "-4.3507582907262324e-08"
      ]
     },
     "execution_count": 88,
     "metadata": {},
     "output_type": "execute_result"
    }
   ],
   "source": [
    "tochechn(ricker(2, 0.3), 0.3)[1]"
   ]
  },
  {
   "cell_type": "code",
   "execution_count": 103,
   "metadata": {},
   "outputs": [
    {
     "name": "stderr",
     "output_type": "stream",
     "text": [
      "E:\\anaconda\\lib\\site-packages\\ipykernel_launcher.py:14: RuntimeWarning: invalid value encountered in double_scalars\n",
      "  \n",
      "E:\\anaconda\\lib\\site-packages\\ipykernel_launcher.py:15: RuntimeWarning: invalid value encountered in double_scalars\n",
      "  from ipykernel import kernelapp as app\n",
      "E:\\anaconda\\lib\\site-packages\\ipykernel_launcher.py:18: RuntimeWarning: invalid value encountered in double_scalars\n",
      "E:\\anaconda\\lib\\site-packages\\ipykernel_launcher.py:19: RuntimeWarning: invalid value encountered in double_scalars\n"
     ]
    }
   ],
   "source": [
    "t = np.arange(0.001,0.1, 0.001)\n",
    "u1 = [tochechn(4000*ricker(0.2, new_t), new_t)[0] for new_t in t]\n",
    "u3 = [tochechn(4000*ricker(0.2, new_t), new_t)[1] for new_t in t]"
   ]
  },
  {
   "cell_type": "code",
   "execution_count": 104,
   "metadata": {},
   "outputs": [
    {
     "data": {
      "text/plain": [
       "[<matplotlib.lines.Line2D at 0xa3fc780>]"
      ]
     },
     "execution_count": 104,
     "metadata": {},
     "output_type": "execute_result"
    },
    {
     "data": {
      "image/png": "[encoded data removed]",
      "text/plain": [
       "<Figure size 432x288 with 1 Axes>"
      ]
     },
     "metadata": {
      "needs_background": "light"
     },
     "output_type": "display_data"
    }
   ],
   "source": [
    "plt.plot(t, u1)"
   ]
  },
  {
   "cell_type": "code",
   "execution_count": 4,
   "metadata": {},
   "outputs": [
    {
     "data": {
      "text/plain": [
       "34.64101615137755"
      ]
     },
     "execution_count": 4,
     "metadata": {},
     "output_type": "execute_result"
    }
   ],
   "source": [
    " a1"
   ]
  },
  {
   "cell_type": "code",
   "execution_count": 37,
   "metadata": {},
   "outputs": [
    {
     "data": {
      "text/plain": [
       "21.428571428571427"
      ]
     },
     "execution_count": 37,
     "metadata": {},
     "output_type": "execute_result"
    }
   ],
   "source": [
    "(1.5) / 0.0700"
   ]
  },
  {
   "cell_type": "code",
   "execution_count": 18,
   "metadata": {},
   "outputs": [
    {
     "data": {
      "text/plain": [
       "20.0"
      ]
     },
     "execution_count": 18,
     "metadata": {},
     "output_type": "execute_result"
    }
   ],
   "source": [
    "a2"
   ]
  },
  {
   "cell_type": "code",
   "execution_count": 24,
   "metadata": {},
   "outputs": [
    {
     "data": {
      "text/plain": [
       "1.15"
      ]
     },
     "execution_count": 24,
     "metadata": {},
     "output_type": "execute_result"
    }
   ],
   "source": [
    "nu = 0.25\n",
    "k = (1.12 * nu + 0.87) / (1 + x)\n",
    "k"
   ]
  },
  {
   "cell_type": "code",
   "execution_count": 32,
   "metadata": {},
   "outputs": [
    {
     "data": {
      "text/plain": [
       "23.0"
      ]
     },
     "execution_count": 32,
     "metadata": {},
     "output_type": "execute_result"
    }
   ],
   "source": [
    "1.15 * a2"
   ]
  },
  {
   "cell_type": "code",
   "execution_count": 33,
   "metadata": {},
   "outputs": [
    {
     "data": {
      "text/plain": [
       "20.0"
      ]
     },
     "execution_count": 33,
     "metadata": {},
     "output_type": "execute_result"
    }
   ],
   "source": [
    "a2"
   ]
  },
  {
   "cell_type": "code",
   "execution_count": 31,
   "metadata": {},
   "outputs": [
    {
     "data": {
      "text/plain": [
       "22.0"
      ]
     },
     "execution_count": 31,
     "metadata": {},
     "output_type": "execute_result"
    }
   ],
   "source": [
    "2.2 / 0.100"
   ]
  },
  {
   "cell_type": "code",
   "execution_count": 29,
   "metadata": {},
   "outputs": [
    {
     "data": {
      "text/plain": [
       "21.0"
      ]
     },
     "execution_count": 29,
     "metadata": {},
     "output_type": "execute_result"
    }
   ],
   "source": [
    "(2.1) / 0.100"
   ]
  },
  {
   "cell_type": "code",
   "execution_count": 50,
   "metadata": {},
   "outputs": [
    {
     "data": {
      "text/plain": [
       "Text(0.5, 0, 'Количество узлов')"
      ]
     },
     "execution_count": 50,
     "metadata": {},
     "output_type": "execute_result"
    },
    {
     "data": {
      "image/png": "[encoded data removed]",
      "text/plain": [
       "<Figure size 432x288 with 1 Axes>"
      ]
     },
     "metadata": {
      "needs_background": "light"
     },
     "output_type": "display_data"
    }
   ],
   "source": [
    "plt.plot([288, 1156, 5151, 9261], [2.872, 120.2, 321.848, 1000], label='GPU')\n",
    "plt.plot([288, 1156], [37.6, 610], label='CPU')\n",
    "plt.xlim(280, 10000)\n",
    "plt.legend()\n",
    "plt.ylabel(\"Время (сек)\")\n",
    "plt.xlabel(\"Количество узлов\")"
   ]
  },
  {
   "cell_type": "code",
   "execution_count": 772,
   "metadata": {},
   "outputs": [
    {
     "data": {
      "image/png": "[encoded data removed]",
      "text/plain": [
       "<Figure size 432x288 with 1 Axes>"
      ]
     },
     "metadata": {
      "needs_background": "light"
     },
     "output_type": "display_data"
    }
   ],
   "source": [
    "plt.plot(np.array([ricker(20, i) for i in t]))\n",
    "plt.show()"
   ]
  },
  {
   "cell_type": "code",
   "execution_count": null,
   "metadata": {
    "collapsed": true
   },
   "outputs": [],
   "source": []
  },
  {
   "cell_type": "code",
   "execution_count": 48,
   "metadata": {
    "scrolled": true
   },
   "outputs": [
    {
     "data": {
      "text/plain": [
       "[<matplotlib.lines.Line2D at 0x7fcb45d48470>]"
      ]
     },
     "execution_count": 48,
     "metadata": {},
     "output_type": "execute_result"
    },
    {
     "data": {
      "image/png": "[encoded data removed]",
      "text/plain": [
       "<Figure size 432x288 with 1 Axes>"
      ]
     },
     "metadata": {},
     "output_type": "display_data"
    }
   ],
   "source": [
    "plt.plot(t, V_comp)"
   ]
  },
  {
   "cell_type": "code",
   "execution_count": null,
   "metadata": {
    "collapsed": true
   },
   "outputs": [],
   "source": []
  },
  {
   "cell_type": "code",
   "execution_count": 60,
   "metadata": {},
   "outputs": [
    {
     "data": {
      "text/plain": [
       "[<matplotlib.lines.Line2D at 0x7fcb45ba2b00>]"
      ]
     },
     "execution_count": 60,
     "metadata": {},
     "output_type": "execute_result"
    },
    {
     "data": {
      "image/png": "[encoded data removed]",
      "text/plain": [
       "<Figure size 432x288 with 1 Axes>"
      ]
     },
     "metadata": {},
     "output_type": "display_data"
    }
   ],
   "source": [
    "plt.plot(t, V_comp)"
   ]
  },
  {
   "cell_type": "code",
   "execution_count": null,
   "metadata": {
    "collapsed": true
   },
   "outputs": [],
   "source": []
  },
  {
   "cell_type": "code",
   "execution_count": 9,
   "metadata": {},
   "outputs": [
    {
     "data": {
      "text/plain": [
       "1024"
      ]
     },
     "execution_count": 9,
     "metadata": {},
     "output_type": "execute_result"
    }
   ],
   "source": [
    "9216 / 9"
   ]
  }
 ],
 "metadata": {
  "kernelspec": {
   "display_name": "Python 3",
   "language": "python",
   "name": "python3"
  },
  "language_info": {
   "codemirror_mode": {
    "name": "ipython",
    "version": 3
   },
   "file_extension": ".py",
   "mimetype": "text/x-python",
   "name": "python",
   "nbconvert_exporter": "python",
   "pygments_lexer": "ipython3",
   "version": "3.7.1"
  }
 },
 "nbformat": 4,
 "nbformat_minor": 2
}
